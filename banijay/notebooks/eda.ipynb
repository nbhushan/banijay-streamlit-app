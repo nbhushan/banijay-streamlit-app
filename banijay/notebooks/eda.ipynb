{
 "cells": [
  {
   "cell_type": "code",
   "execution_count": 9,
   "metadata": {},
   "outputs": [
    {
     "name": "stdout",
     "output_type": "stream",
     "text": [
      "pandas version:  1.5.3\n",
      "streamlit version:  1.20.0\n",
      "json version:  2.0.9\n",
      "deep_translator version:  1.9.1\n"
     ]
    }
   ],
   "source": [
    "import json\n",
    "import deep_translator\n",
    "import pandas as pd\n",
    "import streamlit as st\n",
    "from num2words import num2words\n",
    "from tqdm.notebook import tqdm\n",
    "\n",
    "print(\"pandas version: \", pd.__version__)\n",
    "print(\"streamlit version: \", st.__version__)\n",
    "print(\"json version: \", json.__version__)\n",
    "print(\"deep_translator version: \", deep_translator.__version__)"
   ]
  },
  {
   "cell_type": "code",
   "execution_count": 10,
   "metadata": {},
   "outputs": [],
   "source": [
    "def dutch_to_english(text, batch=False):\n",
    "    '''\n",
    "    Translate dutch to english\n",
    "    \n",
    "    :param text: text to translate\n",
    "    :param batch: if batch is True, translate a list of texts\n",
    "    '''\n",
    "    if len(text) > 1:\n",
    "        try:\n",
    "            if batch:\n",
    "                keywords = []\n",
    "                for words in text:\n",
    "                    try:\n",
    "                        keywords.append(GoogleTranslator(\n",
    "                            source='auto', target='en').translate(words))\n",
    "                    except:\n",
    "                        num_word = num2words(float(words))\n",
    "                        keywords.append(GoogleTranslator(\n",
    "                            source='auto', target='en').translate(num_word))\n",
    "                return keywords\n",
    "            return GoogleTranslator(source='nl', target='en').translate(text)\n",
    "        except:\n",
    "            return text\n",
    "    else:\n",
    "        return np.nan"
   ]
  },
  {
   "cell_type": "code",
   "execution_count": 11,
   "metadata": {},
   "outputs": [],
   "source": [
    "def to_datetime(df, cols, format):\n",
    "    '''\n",
    "    Function to convert a column to datetime \n",
    "\n",
    "    :param df: pandas dataframe\n",
    "    :param cols: column to convert\n",
    "    :param format: format of the date time\n",
    "    '''\n",
    "    def to_datetime(col):\n",
    "        return pd.to_datetime(col, format = format)\n",
    "    df[cols] = df[cols].apply(to_datetime)\n",
    "    return df"
   ]
  },
  {
   "cell_type": "code",
   "execution_count": 12,
   "metadata": {},
   "outputs": [],
   "source": [
    "# create function to get the content id for each rating\n",
    "\n",
    "def get_id(dt, df_c):\n",
    "    '''\n",
    "    Function to get the content id for each rating\n",
    "\n",
    "    :param dt: datetime of the rating\n",
    "    :param df_c: content dataframe\n",
    "    '''\n",
    "    mask = (dt > df_c['date_time_start']) & (dt <= df_c['date_time_end'])\n",
    "    if mask.any():\n",
    "        return df_c[mask]['id'].values[0]"
   ]
  },
  {
   "attachments": {},
   "cell_type": "markdown",
   "metadata": {},
   "source": [
    "# Data Pre-processing"
   ]
  },
  {
   "cell_type": "code",
   "execution_count": null,
   "metadata": {},
   "outputs": [],
   "source": [
    "# preprocess the content data\n",
    "\n",
    "df_content_processed = (pd.read_pickle('banijay_op1data_content_raw.pkl')\n",
    "                        .rename(columns=str.lower)\n",
    "                        .assign(\n",
    "                            #title_en = lambda df: df['title'].apply(dutch_to_english),\n",
    "                            #summary_en = lambda df: df['summary'].apply(dutch_to_english),\n",
    "                            #keywords_en = lambda df: df['keywords'].apply(dutch_to_english, batch=True),\n",
    "                            date_time_start = lambda df: (df['date'] + \" \" + df['start'].str[:-3]),\n",
    "                            date_time_end = lambda df: (df['date'] + \" \" + df['end'].str[:-3]),)\n",
    "                        .pipe(to_datetime, ['date_time_start', 'date_time_end'], '%d-%m-%Y %H:%M:%S')\n",
    "                        .drop(['date', 'start', 'end'], axis=1)\n",
    "                        .drop_duplicates(subset=['id'])\n",
    "                        .dropna(subset=['id'])\n",
    "                        )\n",
    "\n",
    "print(\"Content data: \", df_content_processed.shape)"
   ]
  },
  {
   "cell_type": "code",
   "execution_count": null,
   "metadata": {},
   "outputs": [],
   "source": [
    "# preprocess the ratings data\n",
    "\n",
    "df_ratings_processed = (pd.read_csv('banijay_op1data_ratings_raw.csv', sep=\";\", decimal=\",\")\n",
    "                        .rename(columns=str.lower)\n",
    "                        .assign(\n",
    "                            date_time = lambda df: (df['datum'] + \" \" + df['time']))\n",
    "                        .pipe(to_datetime, ['date_time'], '%Y-%m-%d %H:%M:%S')\n",
    "                        .drop(['datum', 'time'], axis=1)\n",
    "                        .dropna(subset=['date_time'])\n",
    "                        )\n",
    "\n",
    "print(\"Ratings data: \", df_ratings_processed.shape)"
   ]
  },
  {
   "cell_type": "code",
   "execution_count": null,
   "metadata": {},
   "outputs": [],
   "source": [
    "# create a lookup table for the content id (id) and the datetime (date_time\n",
    "# this is useful because the index of the ratings dataframe is not\n",
    "# the same as the index of the content dataframe\n",
    "\n",
    "df_ratings_lookup =  (pd.DataFrame(df_ratings_processed['date_time'].unique(), columns=['date_time'])\n",
    "                        .assign(\n",
    "                            id = lambda df: df['date_time'].apply(get_id, df_c=df_content_processed))\n",
    "                        )   \n",
    "\n",
    "print(\"Lookup table: \", df_ratings_lookup.shape)"
   ]
  },
  {
   "cell_type": "code",
   "execution_count": null,
   "metadata": {},
   "outputs": [],
   "source": [
    "# Merge the ratings and content dataframes using the lookup table\n",
    "\n",
    "df_merged = (df_ratings_processed\n",
    "                .merge(df_ratings_lookup, on='date_time', how='left', validate='many_to_one')\n",
    "                .merge(df_content_processed, on='id', how='left', validate='many_to_one')\n",
    "                .drop(['program','station','kdh%','zadl%'], axis=1)\n",
    "                .dropna(subset=['id'])\n",
    "             )\n",
    "\n",
    "print(\"Merged Data: \", df_merged.shape)"
   ]
  },
  {
   "attachments": {},
   "cell_type": "markdown",
   "metadata": {},
   "source": [
    "# Data Exploration"
   ]
  },
  {
   "attachments": {},
   "cell_type": "markdown",
   "metadata": {},
   "source": [
    "# get mean kdh000 group by target group for ratings type totaal\n",
    "\n",
    "(df_merged\n",
    "    .loc[df_merged['ratings type'] == 'totaal', :]\n",
    "    .groupby(['target group'])['kdh000']\n",
    "    .mean()\n",
    "    .sort_values(ascending=False)\n",
    ")"
   ]
  },
  {
   "cell_type": "code",
   "execution_count": null,
   "metadata": {},
   "outputs": [],
   "source": [
    "# Barplot of the mean kdh000 per target group\n",
    "\n",
    "(df_merged\n",
    "    .loc[df_merged['ratings type'] == 'totaal', :]\n",
    "    .groupby(['target group'])['kdh000']\n",
    "    .mean()\n",
    "    .sort_values(ascending=False)\n",
    "    .plot(kind='bar', \n",
    "          figsize=(10,5), \n",
    "          title='Mean kdh000 per target group based on ratings type totaal',\n",
    "          grid=True,\n",
    "          color='orange',\n",
    "          legend=True)\n",
    ")"
   ]
  },
  {
   "cell_type": "code",
   "execution_count": null,
   "metadata": {},
   "outputs": [],
   "source": [
    " Monthly trend analysis\n",
    "\n",
    "(df_merged\n",
    "    .assign(\n",
    "        month = lambda x: x['date_time'].dt.month)\n",
    "    .loc[df_merged['ratings type'] == 'totaal', :]\n",
    "    .groupby(['month'])['kdh000']\n",
    "    .mean()\n",
    "    .plot(kind='line',\n",
    "            figsize=(10,5),\n",
    "            title='Monthly trend analysis',\n",
    "            grid=True,\n",
    "            color='orange',\n",
    "            legend=True)\n",
    ")"
   ]
  }
 ],
 "metadata": {
  "kernelspec": {
   "display_name": "Python 3 (ipykernel)",
   "language": "python",
   "name": "python3"
  },
  "language_info": {
   "codemirror_mode": {
    "name": "ipython",
    "version": 3
   },
   "file_extension": ".py",
   "mimetype": "text/x-python",
   "name": "python",
   "nbconvert_exporter": "python",
   "pygments_lexer": "ipython3",
   "version": "3.9.16"
  }
 },
 "nbformat": 4,
 "nbformat_minor": 2
}
